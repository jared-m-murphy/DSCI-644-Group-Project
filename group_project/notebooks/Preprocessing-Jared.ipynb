{
 "cells": [
  {
   "cell_type": "code",
   "execution_count": 3,
   "id": "5918f869",
   "metadata": {},
   "outputs": [],
   "source": [
    "import pandas as pd \n",
    "import numpy as np\n",
    "\n",
    "#importing and parsing duplicates\n",
    "PATH_Duplicate=\"~/Desktop/DSCI-644/group_project/data/Mozilla/M_Duplicate BRs.csv\"#Path to the file\n",
    "df_Duplicate = pd.read_csv(PATH_Duplicate)\n",
    "old_columns=df_Duplicate.columns\n",
    "s=df_Duplicate[list(old_columns)[0]].str.split(\";\")\n",
    "new_columns=list(old_columns)[0].split(\";\")\n",
    "df_Duplicate=pd.DataFrame.from_dict(dict(zip(s.index, s.values))).T\n",
    "df_Duplicate.columns=new_columns\n",
    "\n",
    "#importing and parsing up unique\n",
    "PATH_NonDuplicate=\"~/Desktop/DSCI-644/group_project/data/Mozilla/M_NonDuplicate BRs.csv\"\n",
    "df_NonDuplicate = pd.read_csv(PATH_NonDuplicate)\n",
    "old_columns=df_NonDuplicate.columns\n",
    "s=df_NonDuplicate[list(old_columns)[0]].str.split(\";\")\n",
    "new_columns=list(old_columns)[0].split(\";\")\n",
    "df_NonDuplicate=pd.DataFrame.from_dict(dict(zip(s.index, s.values))).T\n",
    "df_NonDuplicate.columns=new_columns"
   ]
  },
  {
   "cell_type": "code",
   "execution_count": null,
   "id": "8dd57f4d",
   "metadata": {},
   "outputs": [],
   "source": [
    "#in the duplicate dataset there appears to be several entries with the same Issue_id.  \n",
    "#This can be seen by running these two lines of code after the first cell\n",
    "#test = pd.DataFrame(df_Duplicate['Issue_id'].value_counts())\n",
    "#test[test.Issue_id == 2]\n",
    "#After furter inspection these entries to indeed apear to be roughly complete duplicates.\n",
    "#after consideration, we will be eliminating the Issue_id column anyway, and it may be good\n",
    "#to have actual duplicates present in the training, as this may happen in real life\n",
    "#if a developer accidentally submits a bug report twice or something like that.\n",
    "#We can later take the data out of the training mix to see what happens\n",
    "\n",
    "#the method of pre-processing that we are following is outlined in the approach section\n",
    "#of the paper found at https://xin-xia.github.io/publication/icpc201.pdf\n",
    "\n"
   ]
  },
  {
   "cell_type": "code",
   "execution_count": 31,
   "id": "4a479026",
   "metadata": {},
   "outputs": [
    {
     "data": {
      "text/plain": [
       "24056"
      ]
     },
     "execution_count": 31,
     "metadata": {},
     "output_type": "execute_result"
    }
   ],
   "source": [
    "len(np.unique(np.array(df_Duplicate.Issue_id)))"
   ]
  },
  {
   "cell_type": "code",
   "execution_count": 38,
   "id": "c695cc39",
   "metadata": {},
   "outputs": [],
   "source": [
    "test = pd.DataFrame(df_Duplicate['Issue_id'].value_counts())"
   ]
  },
  {
   "cell_type": "code",
   "execution_count": 41,
   "id": "5c2d981d",
   "metadata": {},
   "outputs": [
    {
     "name": "stdout",
     "output_type": "stream",
     "text": [
      "<class 'pandas.core.frame.DataFrame'>\n",
      "Int64Index: 24071 entries, 0 to 24070\n",
      "Data columns (total 7 columns):\n",
      " #   Column            Non-Null Count  Dtype \n",
      "---  ------            --------------  ----- \n",
      " 0   Issue_id          24071 non-null  object\n",
      " 1   Duplicated_issue  24071 non-null  object\n",
      " 2   Title1            24071 non-null  object\n",
      " 3   Description1      24071 non-null  object\n",
      " 4   Title2            24071 non-null  object\n",
      " 5   Description2      24071 non-null  object\n",
      " 6   Label             24071 non-null  object\n",
      "dtypes: object(7)\n",
      "memory usage: 1.5+ MB\n"
     ]
    }
   ],
   "source": []
  },
  {
   "cell_type": "code",
   "execution_count": 37,
   "id": "0851a66e",
   "metadata": {},
   "outputs": [
    {
     "data": {
      "text/html": [
       "<div>\n",
       "<style scoped>\n",
       "    .dataframe tbody tr th:only-of-type {\n",
       "        vertical-align: middle;\n",
       "    }\n",
       "\n",
       "    .dataframe tbody tr th {\n",
       "        vertical-align: top;\n",
       "    }\n",
       "\n",
       "    .dataframe thead th {\n",
       "        text-align: right;\n",
       "    }\n",
       "</style>\n",
       "<table border=\"1\" class=\"dataframe\">\n",
       "  <thead>\n",
       "    <tr style=\"text-align: right;\">\n",
       "      <th></th>\n",
       "      <th>Issue_id</th>\n",
       "      <th>Duplicated_issue</th>\n",
       "      <th>Title1</th>\n",
       "      <th>Description1</th>\n",
       "      <th>Title2</th>\n",
       "      <th>Description2</th>\n",
       "      <th>Label</th>\n",
       "    </tr>\n",
       "  </thead>\n",
       "  <tbody>\n",
       "    <tr>\n",
       "      <th>13729</th>\n",
       "      <td>364834</td>\n",
       "      <td>364824</td>\n",
       "      <td>zorder is not maintained beyond one tab</td>\n",
       "      <td>when multiple tabs are open for example webmai...</td>\n",
       "      <td>zorder is not maintained beyond one tab</td>\n",
       "      <td>when multiple tabs are open for example webmai...</td>\n",
       "      <td>1</td>\n",
       "    </tr>\n",
       "    <tr>\n",
       "      <th>18818</th>\n",
       "      <td>364834</td>\n",
       "      <td>364824</td>\n",
       "      <td>zorder is not maintained beyond one tab</td>\n",
       "      <td>when multiple tabs are open for example webmai...</td>\n",
       "      <td>zorder is not maintained beyond one tab</td>\n",
       "      <td>when multiple tabs are open for example webmai...</td>\n",
       "      <td>1</td>\n",
       "    </tr>\n",
       "  </tbody>\n",
       "</table>\n",
       "</div>"
      ],
      "text/plain": [
       "      Issue_id Duplicated_issue                                   Title1  \\\n",
       "13729   364834           364824  zorder is not maintained beyond one tab   \n",
       "18818   364834           364824  zorder is not maintained beyond one tab   \n",
       "\n",
       "                                            Description1  \\\n",
       "13729  when multiple tabs are open for example webmai...   \n",
       "18818  when multiple tabs are open for example webmai...   \n",
       "\n",
       "                                        Title2  \\\n",
       "13729  zorder is not maintained beyond one tab   \n",
       "18818  zorder is not maintained beyond one tab   \n",
       "\n",
       "                                            Description2 Label  \n",
       "13729  when multiple tabs are open for example webmai...     1  \n",
       "18818  when multiple tabs are open for example webmai...     1  "
      ]
     },
     "execution_count": 37,
     "metadata": {},
     "output_type": "execute_result"
    }
   ],
   "source": [
    "df_Duplicate[df_Duplicate.Issue_id == \"364834\"]"
   ]
  },
  {
   "cell_type": "code",
   "execution_count": 43,
   "id": "c69bad0b",
   "metadata": {},
   "outputs": [
    {
     "data": {
      "text/plain": [
       "245392    59\n",
       "255571    58\n",
       "231720    57\n",
       "263570    54\n",
       "318772    51\n",
       "          ..\n",
       "344536     1\n",
       "441168     1\n",
       "344279     1\n",
       "543279     1\n",
       "952747     1\n",
       "Name: Duplicated_issue, Length: 9099, dtype: int64"
      ]
     },
     "execution_count": 43,
     "metadata": {},
     "output_type": "execute_result"
    }
   ],
   "source": [
    "df_Duplicate.Duplicated_issue.value_counts()"
   ]
  },
  {
   "cell_type": "code",
   "execution_count": 8,
   "id": "2b0c2e74",
   "metadata": {},
   "outputs": [
    {
     "data": {
      "text/html": [
       "<div>\n",
       "<style scoped>\n",
       "    .dataframe tbody tr th:only-of-type {\n",
       "        vertical-align: middle;\n",
       "    }\n",
       "\n",
       "    .dataframe tbody tr th {\n",
       "        vertical-align: top;\n",
       "    }\n",
       "\n",
       "    .dataframe thead th {\n",
       "        text-align: right;\n",
       "    }\n",
       "</style>\n",
       "<table border=\"1\" class=\"dataframe\">\n",
       "  <thead>\n",
       "    <tr style=\"text-align: right;\">\n",
       "      <th></th>\n",
       "      <th>Issue_id</th>\n",
       "      <th>Duplicated_issue</th>\n",
       "      <th>Title1</th>\n",
       "      <th>Description1</th>\n",
       "      <th>Title2</th>\n",
       "      <th>Description2</th>\n",
       "      <th>Label</th>\n",
       "    </tr>\n",
       "  </thead>\n",
       "  <tbody>\n",
       "    <tr>\n",
       "      <th>0</th>\n",
       "      <td>10954</td>\n",
       "      <td>440032</td>\n",
       "      <td>dialup properties needs to be exposed in prefs</td>\n",
       "      <td>the dialup properties of the profile should be...</td>\n",
       "      <td>firefox fails to come back after restart optio...</td>\n",
       "      <td>i updated an addon and selected restart to eff...</td>\n",
       "      <td>0</td>\n",
       "    </tr>\n",
       "    <tr>\n",
       "      <th>1</th>\n",
       "      <td>19118</td>\n",
       "      <td>440034</td>\n",
       "      <td>plugin manager ui for choosing mimetypeplugin ...</td>\n",
       "      <td>i would really like a plugin manager for my br...</td>\n",
       "      <td>file upload form object doesnt work sometimes ...</td>\n",
       "      <td>ive noticed two problems and one potential pro...</td>\n",
       "      <td>0</td>\n",
       "    </tr>\n",
       "    <tr>\n",
       "      <th>2</th>\n",
       "      <td>54746</td>\n",
       "      <td>440035</td>\n",
       "      <td>language encodings in font prefs dialog not so...</td>\n",
       "      <td>language encodings are listed in a seemingly r...</td>\n",
       "      <td>links to blank open new tab in wrong window</td>\n",
       "      <td>we have an intranet that begins by opening a n...</td>\n",
       "      <td>0</td>\n",
       "    </tr>\n",
       "  </tbody>\n",
       "</table>\n",
       "</div>"
      ],
      "text/plain": [
       "  Issue_id Duplicated_issue  \\\n",
       "0    10954           440032   \n",
       "1    19118           440034   \n",
       "2    54746           440035   \n",
       "\n",
       "                                              Title1  \\\n",
       "0     dialup properties needs to be exposed in prefs   \n",
       "1  plugin manager ui for choosing mimetypeplugin ...   \n",
       "2  language encodings in font prefs dialog not so...   \n",
       "\n",
       "                                        Description1  \\\n",
       "0  the dialup properties of the profile should be...   \n",
       "1  i would really like a plugin manager for my br...   \n",
       "2  language encodings are listed in a seemingly r...   \n",
       "\n",
       "                                              Title2  \\\n",
       "0  firefox fails to come back after restart optio...   \n",
       "1  file upload form object doesnt work sometimes ...   \n",
       "2        links to blank open new tab in wrong window   \n",
       "\n",
       "                                        Description2 Label  \n",
       "0  i updated an addon and selected restart to eff...     0  \n",
       "1  ive noticed two problems and one potential pro...     0  \n",
       "2  we have an intranet that begins by opening a n...     0  "
      ]
     },
     "execution_count": 8,
     "metadata": {},
     "output_type": "execute_result"
    }
   ],
   "source": [
    "df_NonDuplicate.head(3)"
   ]
  },
  {
   "cell_type": "code",
   "execution_count": null,
   "id": "974bf145",
   "metadata": {},
   "outputs": [],
   "source": []
  }
 ],
 "metadata": {
  "kernelspec": {
   "display_name": "Python 3 (ipykernel)",
   "language": "python",
   "name": "python3"
  },
  "language_info": {
   "codemirror_mode": {
    "name": "ipython",
    "version": 3
   },
   "file_extension": ".py",
   "mimetype": "text/x-python",
   "name": "python",
   "nbconvert_exporter": "python",
   "pygments_lexer": "ipython3",
   "version": "3.9.7"
  }
 },
 "nbformat": 4,
 "nbformat_minor": 5
}
